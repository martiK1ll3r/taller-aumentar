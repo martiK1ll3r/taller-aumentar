{
  "nbformat": 4,
  "nbformat_minor": 0,
  "metadata": {
    "colab": {
      "provenance": [],
      "authorship_tag": "ABX9TyM7Xm0EnfJ+0WCRJg0fyZJI",
      "include_colab_link": true
    },
    "kernelspec": {
      "name": "python3",
      "display_name": "Python 3"
    },
    "language_info": {
      "name": "python"
    }
  },
  "cells": [
    {
      "cell_type": "markdown",
      "metadata": {
        "id": "view-in-github",
        "colab_type": "text"
      },
      "source": [
        "<a href=\"https://colab.research.google.com/github/martiK1ll3r/taller-aumentar/blob/main/problema_funcion_de_cine.ipynb\" target=\"_parent\"><img src=\"https://colab.research.google.com/assets/colab-badge.svg\" alt=\"Open In Colab\"/></a>"
      ]
    },
    {
      "cell_type": "markdown",
      "source": [
        "#  problema del cine\n",
        "### fundamentos de programacion\n",
        "\n",
        "**Nombre**: Martin Jose Castaneda\n",
        "\n",
        "\n",
        "_email:_ martin.castanedag@upb.edu.co\n",
        "\n",
        "*FECHA DE CREACIOn*: 16 de septiembre 2024\n",
        "\n"
      ],
      "metadata": {
        "id": "8v5SYyNM8IMn"
      }
    },
    {
      "cell_type": "markdown",
      "source": [
        "#problema\n",
        "Descripción del problema: Un cine local ofrece promociones en las entradas según el horario de la función. Las reglas para determinar el costo de las entradas son las siguientes:\n",
        "\n",
        "Para cualquier función antes de las 6:00 p.m., las entradas tienen los siguientes precios:\n",
        "\n",
        "Niños: $5,000 COP.\n",
        "\n",
        "Adultos: $7,500 COP.\n",
        "\n",
        "Para funciones después de las 6:00 p.m., el precio de la entrada es general:\n",
        "Entrada general: $10,000 COP por persona.\n",
        "\n",
        "Además, si el total de la compra supera los $50,000 COP, el cine regala una crispeta familiar.\n",
        "\n",
        "Entradas del problema:\n",
        "\n",
        "num_ninos: número de niños en el grupo.\n",
        "\n",
        "num_adultos: número de adultos en el grupo.\n",
        "\n",
        "hora_funcion: hora de la función en formato de 24 horas (por ejemplo, 14 para las 2 p.m., 19 para las 7 p.m.).\n",
        "\n",
        "Salidas esperadas:\n",
        "\n",
        "El total a pagar por las entradas.\n",
        "\n",
        "Si se obtiene o no la crispeta familiar.\n"
      ],
      "metadata": {
        "id": "sCdFJ9iCHLwm"
      }
    },
    {
      "cell_type": "markdown",
      "source": [
        "#algoritmo para funcion del cine\n",
        "\n",
        "1.  iniciar\n",
        "2.   obtener el numero deniños que entrara en la funcion\n",
        "3. obtner el numero de adultos\n",
        "4. obtener la hora de la funcio (0 - 24)\n",
        "5. determinar el total dependiendo de la hora de la funcion:\n",
        "- si la hora es menor a 18, entonces total = num_ninos * 5000 + num_adultos * 7500\n",
        "- si la hora es mayor o igual a 18, entoces: total = (num_ninos+num_adultos) * 10000\n",
        "6. mostrar total\n",
        "7. si el total es mayor a 50000, indicar que se han ganado unas cripitas familiar gratis\n",
        "8. finalizar\n",
        "\n",
        "\n"
      ],
      "metadata": {
        "id": "rLEGQ-md2Q4z"
      }
    },
    {
      "cell_type": "markdown",
      "source": [
        "#pseudocodigo para funcion de cine\n",
        "start\n",
        "\n",
        "//programa para calcular el valor de entradas en un cine//\n",
        "\n",
        "declare float num_ninos\n",
        "\n",
        "declare float num_adultos\n",
        "\n",
        "declare float hora\n",
        "\n",
        "declare float total\n",
        "\n",
        "display \"ingrese el numero de niños\"\n",
        "input num_ninos\n",
        "\n",
        "display \"ingrese el numero de adultos\"\n",
        "input num_adultos\n",
        "\n",
        "display \"hora en la que ingresa la funcion\"\n",
        "input hora\n",
        "\n",
        "//determinara el total a para dependiendo de la hora de la funcion//\n",
        "if hora < 18\n",
        "\n",
        "then total = num_ninos * 5000 + num_adultos * 7500\n",
        "\n",
        "else hora > 18\n",
        "\n",
        "then total = (num_ninos + num_adultos) * 10000\n",
        "\n",
        "\n",
        "display ( este es su total a pagar) , total\n",
        "\n",
        "\n",
        "if total > 50000\n",
        "\n",
        "then display \"ha gando una cripesta gratis\"\n",
        "\n",
        "else display \"no ha ganado nada\""
      ],
      "metadata": {
        "id": "7vUo5ra_-s2E"
      }
    },
    {
      "source": [
        "num_ninos = int(input( \"ingrese el numero de niños\" ))\n",
        "num_adultos = int(input( \"ingrese el numero de adultos\" ))\n",
        "hora = int(input(\"hora en la que ingresa la funcion\" ))\n",
        "\n",
        "if hora < 18:\n",
        "    total = num_ninos * 5000 + num_adultos * 7500\n",
        "else:\n",
        "    total = (num_ninos + num_adultos) * 10000\n",
        "print(\"este es su total a pagar\", total)\n",
        "if total > 50000:\n",
        "    print(\"ha gando una cripesta gratis\")\n",
        "else:\n",
        "    print(\"no ha ganado\")"
      ],
      "cell_type": "code",
      "metadata": {
        "colab": {
          "base_uri": "https://localhost:8080/"
        },
        "id": "MgwCNIRsDun0",
        "outputId": "9dd27ee7-774b-44b7-d299-63e22395f50c"
      },
      "execution_count": null,
      "outputs": [
        {
          "output_type": "stream",
          "name": "stdout",
          "text": [
            "ingrese el numero de niños3\n",
            "ingrese el numero de adultos5\n",
            "hora en la que ingresa la funcion19\n",
            "este es su total a pagar 80000\n",
            "ha gando una cripesta gratis\n"
          ]
        }
      ]
    }
  ]
}